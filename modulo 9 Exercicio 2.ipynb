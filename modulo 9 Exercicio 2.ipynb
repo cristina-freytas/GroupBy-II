{
 "cells": [
  {
   "cell_type": "markdown",
   "metadata": {},
   "source": [
    "# Módulo 9: TdD III - Agregações e operações em grupos\n",
    "\n",
    "# Exercício 2"
   ]
  },
  {
   "cell_type": "markdown",
   "metadata": {},
   "source": [
    "# Livro para consulta:\n",
    "- https://jakevdp.github.io/PythonDataScienceHandbook/03.08-aggregation-and-grouping.html\n",
    "- https://jakevdp.github.io/PythonDataScienceHandbook/03.09-pivot-tables.html\n",
    "    "
   ]
  },
  {
   "cell_type": "markdown",
   "metadata": {},
   "source": [
    "# 1. Importando bibliotecas <a name=\"import\"></a>\n",
    "\n",
    "<div style=\"text-align: right\"\n",
    "     \n",
    "[Voltar ao índice](#Contents)"
   ]
  },
  {
   "cell_type": "code",
   "execution_count": 185,
   "metadata": {
    "ExecuteTime": {
     "end_time": "2021-06-06T21:12:37.298706Z",
     "start_time": "2021-06-06T21:12:36.656481Z"
    }
   },
   "outputs": [],
   "source": [
    "# importando bibliotecas\n",
    "\n",
    "import numpy as np\n",
    "import pandas as pd\n",
    "import seaborn as sns\n",
    "import matplotlib.pyplot as plt\n",
    "\n",
    "%matplotlib inline"
   ]
  },
  {
   "cell_type": "markdown",
   "metadata": {},
   "source": [
    "# 2. Carregando o dataframe SINASC <a name=\"read\"></a>\n",
    "<div style=\"text-align: right\"\n",
    "     \n",
    "[Voltar ao índice](#Contents)"
   ]
  },
  {
   "cell_type": "code",
   "execution_count": 186,
   "metadata": {
    "ExecuteTime": {
     "end_time": "2021-06-06T21:12:37.762376Z",
     "start_time": "2021-06-06T21:12:37.728383Z"
    },
    "scrolled": true
   },
   "outputs": [
    {
     "data": {
      "text/plain": [
       "Index(['ORIGEM', 'CODESTAB', 'CODMUNNASC', 'LOCNASC', 'IDADEMAE', 'ESTCIVMAE',\n",
       "       'ESCMAE', 'CODOCUPMAE', 'QTDFILVIVO', 'QTDFILMORT', 'CODMUNRES',\n",
       "       'GESTACAO', 'GRAVIDEZ', 'PARTO', 'CONSULTAS', 'DTNASC', 'HORANASC',\n",
       "       'SEXO', 'APGAR1', 'APGAR5', 'RACACOR', 'PESO', 'IDANOMAL', 'DTCADASTRO',\n",
       "       'CODANOMAL', 'NUMEROLOTE', 'VERSAOSIST', 'DTRECEBIM', 'DIFDATA',\n",
       "       'DTRECORIGA', 'NATURALMAE', 'CODMUNNATU', 'CODUFNATU', 'ESCMAE2010',\n",
       "       'SERIESCMAE', 'DTNASCMAE', 'RACACORMAE', 'QTDGESTANT', 'QTDPARTNOR',\n",
       "       'QTDPARTCES', 'IDADEPAI', 'DTULTMENST', 'SEMAGESTAC', 'TPMETESTIM',\n",
       "       'CONSPRENAT', 'MESPRENAT', 'TPAPRESENT', 'STTRABPART', 'STCESPARTO',\n",
       "       'TPNASCASSI', 'TPFUNCRESP', 'TPDOCRESP', 'DTDECLARAC', 'ESCMAEAGR1',\n",
       "       'STDNEPIDEM', 'STDNNOVA', 'CODPAISRES', 'TPROBSON', 'PARIDADE',\n",
       "       'KOTELCHUCK', 'CONTADOR', 'munResStatus', 'munResTipo', 'munResNome',\n",
       "       'munResUf', 'munResLat', 'munResLon', 'munResAlt', 'munResArea'],\n",
       "      dtype='object')"
      ]
     },
     "execution_count": 186,
     "metadata": {},
     "output_type": "execute_result"
    }
   ],
   "source": [
    "# carregando arquivo e construindo DataFrame\n",
    "\n",
    "arquivo = pd.read_csv('SINASCI_RO_2019.csv')\n",
    "df_sinasci = pd.DataFrame(arquivo)\n",
    "\n",
    "\n",
    "# informações sobre os dados\n",
    "\n",
    "df_sinasci.columns\n"
   ]
  },
  {
   "cell_type": "markdown",
   "metadata": {},
   "source": [
    "# Tarefa 2"
   ]
  },
  {
   "cell_type": "markdown",
   "metadata": {},
   "source": [
    "### 1. Crie 2 faixas de Latitude do município (munResLat) sendo uma acima e outra abaixo de -10.5 e aplique o groupby usando essas faixas como chave e realize operações de soma, media, minimo, maximo, mediana, desvio padrao, variancia pra pelo menos 2 variáveis numéricas ainda não utilizadas"
   ]
  },
  {
   "cell_type": "code",
   "execution_count": 187,
   "metadata": {},
   "outputs": [
    {
     "data": {
      "text/plain": [
       "Index(['CODESTAB', 'ESTCIVMAE', 'CODOCUPMAE', 'QTDFILVIVO', 'QTDFILMORT',\n",
       "       'HORANASC', 'APGAR1', 'APGAR5', 'IDANOMAL', 'DTRECORIGA', 'NATURALMAE',\n",
       "       'CODMUNNATU', 'CODUFNATU', 'ESCMAE2010', 'SERIESCMAE', 'DTNASCMAE',\n",
       "       'RACACORMAE', 'QTDGESTANT', 'QTDPARTNOR', 'QTDPARTCES', 'IDADEPAI',\n",
       "       'DTULTMENST', 'SEMAGESTAC', 'TPMETESTIM', 'CONSPRENAT', 'MESPRENAT',\n",
       "       'TPAPRESENT', 'STTRABPART', 'STCESPARTO', 'TPNASCASSI', 'TPFUNCRESP',\n",
       "       'TPDOCRESP', 'DTDECLARAC', 'ESCMAEAGR1', 'munResLat', 'munResLon',\n",
       "       'munResAlt', 'munResArea'],\n",
       "      dtype='object')"
      ]
     },
     "execution_count": 187,
     "metadata": {},
     "output_type": "execute_result"
    }
   ],
   "source": [
    "# variáveis numéricas\n",
    "\n",
    "variaveis_numericas = df_sinasci.select_dtypes(include=['float'])\n",
    "variaveis_numericas.columns"
   ]
  },
  {
   "cell_type": "code",
   "execution_count": 188,
   "metadata": {},
   "outputs": [
    {
     "name": "stdout",
     "output_type": "stream",
     "text": [
      "\n",
      "\n",
      "   munResLat   faixa_latitude\n",
      "0  -11.93554  Abaixo de -10.5\n",
      "1  -11.93554  Abaixo de -10.5\n",
      "2  -11.93554  Abaixo de -10.5\n",
      "3  -12.13178  Abaixo de -10.5\n",
      "4  -11.93554  Abaixo de -10.5\n",
      "\n",
      "\n"
     ]
    }
   ],
   "source": [
    "# criando nova coluna \"faixa_latitude\" - menos infinito | -10.5 | mais infinito\n",
    "\n",
    "df_sinasci['faixa_latitude'] = pd.cut(df_sinasci['munResLat'], \n",
    "                                      bins=[-float('inf'), -10.5, float('inf')], \n",
    "                                      labels=['Abaixo de -10.5', 'Acima de -10.5'])\n",
    "\n",
    "print('\\n')\n",
    "print(df_sinasci[['munResLat', 'faixa_latitude']].head())\n",
    "print('\\n')\n"
   ]
  },
  {
   "cell_type": "code",
   "execution_count": 189,
   "metadata": {},
   "outputs": [
    {
     "data": {
      "text/html": [
       "<div>\n",
       "<style scoped>\n",
       "    .dataframe tbody tr th:only-of-type {\n",
       "        vertical-align: middle;\n",
       "    }\n",
       "\n",
       "    .dataframe tbody tr th {\n",
       "        vertical-align: top;\n",
       "    }\n",
       "\n",
       "    .dataframe thead tr th {\n",
       "        text-align: left;\n",
       "    }\n",
       "</style>\n",
       "<table border=\"1\" class=\"dataframe\">\n",
       "  <thead>\n",
       "    <tr>\n",
       "      <th></th>\n",
       "      <th>faixa_latitude</th>\n",
       "      <th colspan=\"7\" halign=\"left\">QTDPARTCES</th>\n",
       "      <th colspan=\"7\" halign=\"left\">QTDPARTNOR</th>\n",
       "    </tr>\n",
       "    <tr>\n",
       "      <th></th>\n",
       "      <th></th>\n",
       "      <th>Soma</th>\n",
       "      <th>Média</th>\n",
       "      <th>Minímo</th>\n",
       "      <th>Máximo</th>\n",
       "      <th>Mediana</th>\n",
       "      <th>Desvio Padrão</th>\n",
       "      <th>Variância</th>\n",
       "      <th>Soma</th>\n",
       "      <th>Média</th>\n",
       "      <th>Minímo</th>\n",
       "      <th>Máximo</th>\n",
       "      <th>Mediana</th>\n",
       "      <th>Desvio Padrão</th>\n",
       "      <th>Variância</th>\n",
       "    </tr>\n",
       "  </thead>\n",
       "  <tbody>\n",
       "    <tr>\n",
       "      <th>0</th>\n",
       "      <td>Abaixo de -10.5</td>\n",
       "      <td>7095.0</td>\n",
       "      <td>0.552570</td>\n",
       "      <td>0.0</td>\n",
       "      <td>12.0</td>\n",
       "      <td>0.0</td>\n",
       "      <td>0.753036</td>\n",
       "      <td>0.567062</td>\n",
       "      <td>5800.0</td>\n",
       "      <td>0.452242</td>\n",
       "      <td>0.0</td>\n",
       "      <td>41.0</td>\n",
       "      <td>0.0</td>\n",
       "      <td>1.123426</td>\n",
       "      <td>1.262087</td>\n",
       "    </tr>\n",
       "    <tr>\n",
       "      <th>1</th>\n",
       "      <td>Acima de -10.5</td>\n",
       "      <td>6041.0</td>\n",
       "      <td>0.487335</td>\n",
       "      <td>0.0</td>\n",
       "      <td>12.0</td>\n",
       "      <td>0.0</td>\n",
       "      <td>0.737899</td>\n",
       "      <td>0.544495</td>\n",
       "      <td>8771.0</td>\n",
       "      <td>0.711759</td>\n",
       "      <td>0.0</td>\n",
       "      <td>40.0</td>\n",
       "      <td>0.0</td>\n",
       "      <td>1.279042</td>\n",
       "      <td>1.635949</td>\n",
       "    </tr>\n",
       "  </tbody>\n",
       "</table>\n",
       "</div>"
      ],
      "text/plain": [
       "    faixa_latitude QTDPARTCES                                                \\\n",
       "                         Soma     Média Minímo Máximo Mediana Desvio Padrão   \n",
       "0  Abaixo de -10.5     7095.0  0.552570    0.0   12.0     0.0      0.753036   \n",
       "1   Acima de -10.5     6041.0  0.487335    0.0   12.0     0.0      0.737899   \n",
       "\n",
       "            QTDPARTNOR                                                          \n",
       "  Variância       Soma     Média Minímo Máximo Mediana Desvio Padrão Variância  \n",
       "0  0.567062     5800.0  0.452242    0.0   41.0     0.0      1.123426  1.262087  \n",
       "1  0.544495     8771.0  0.711759    0.0   40.0     0.0      1.279042  1.635949  "
      ]
     },
     "execution_count": 189,
     "metadata": {},
     "output_type": "execute_result"
    }
   ],
   "source": [
    "# groupBy com as variáveis CONSULTAS E QTDPARTNOR\n",
    "\n",
    "resultados = (\n",
    "    df_sinasci.groupby('faixa_latitude', observed=False)[['QTDPARTCES', 'QTDPARTNOR']]\n",
    "    .agg([('Soma','sum'), ('Média','mean'), ('Minímo','min'), ('Máximo','max'), \n",
    "          ('Mediana','median'), ('Desvio Padrão','std'), ('Variância','var')])\n",
    "    .reset_index()\n",
    ")\n",
    "\n",
    "resultados"
   ]
  },
  {
   "cell_type": "markdown",
   "metadata": {},
   "source": [
    "- **Insight:** \n",
    "- Cidades situadas **abaixo de -10.5** de latitude têm mais partos do tipo Cesárea do que as cidades situadas **acima de -10.5**. \n",
    "- Já as cidades  situadas **acima de -10.5** de latitude têm mais partos do tipo Normal do que as cidades situadas **abaixo de -10.5**.\n"
   ]
  },
  {
   "cell_type": "markdown",
   "metadata": {},
   "source": [
    "### 2. Crie 2 faixas da área dos municípios (munResArea) sendo uma acima e outra abaixo de 3000 e aplique o groupby usando essas faixas como chave e realize operações de soma, media, minimo, maximo, mediana, desvio padrao, variancia pra pelo menos 2 variáveis numéricas ainda não utilizadas\n"
   ]
  },
  {
   "cell_type": "code",
   "execution_count": 190,
   "metadata": {},
   "outputs": [
    {
     "name": "stdout",
     "output_type": "stream",
     "text": [
      "\n",
      "\n",
      "   munResArea     faixa_area\n",
      "0    7067.025  Acima de 3000\n",
      "1    7067.025  Acima de 3000\n",
      "2    7067.025  Acima de 3000\n",
      "3    3958.273  Acima de 3000\n",
      "4    7067.025  Acima de 3000\n",
      "\n",
      "\n"
     ]
    }
   ],
   "source": [
    "# criando nova coluna \"faixa_area\" - menos infinito | 3000 | mais infinito\n",
    "\n",
    "df_sinasci['faixa_area'] = pd.cut(df_sinasci['munResArea'], \n",
    "                                      bins=[-float('inf'), 3000, float('inf')], \n",
    "                                      labels=['Abaixo de 3000', 'Acima de 3000'])\n",
    "\n",
    "print('\\n')\n",
    "print(df_sinasci[['munResArea', 'faixa_area']].head())\n",
    "print('\\n')"
   ]
  },
  {
   "cell_type": "code",
   "execution_count": 191,
   "metadata": {},
   "outputs": [
    {
     "data": {
      "text/html": [
       "<div>\n",
       "<style scoped>\n",
       "    .dataframe tbody tr th:only-of-type {\n",
       "        vertical-align: middle;\n",
       "    }\n",
       "\n",
       "    .dataframe tbody tr th {\n",
       "        vertical-align: top;\n",
       "    }\n",
       "\n",
       "    .dataframe thead tr th {\n",
       "        text-align: left;\n",
       "    }\n",
       "</style>\n",
       "<table border=\"1\" class=\"dataframe\">\n",
       "  <thead>\n",
       "    <tr>\n",
       "      <th></th>\n",
       "      <th>faixa_area</th>\n",
       "      <th colspan=\"7\" halign=\"left\">QTDGESTANT</th>\n",
       "      <th colspan=\"7\" halign=\"left\">QTDFILMORT</th>\n",
       "    </tr>\n",
       "    <tr>\n",
       "      <th></th>\n",
       "      <th></th>\n",
       "      <th>Soma</th>\n",
       "      <th>Média</th>\n",
       "      <th>Minímo</th>\n",
       "      <th>Máximo</th>\n",
       "      <th>Mediana</th>\n",
       "      <th>Desvio Padrão</th>\n",
       "      <th>Variância</th>\n",
       "      <th>Soma</th>\n",
       "      <th>Média</th>\n",
       "      <th>Minímo</th>\n",
       "      <th>Máximo</th>\n",
       "      <th>Mediana</th>\n",
       "      <th>Desvio Padrão</th>\n",
       "      <th>Variância</th>\n",
       "    </tr>\n",
       "  </thead>\n",
       "  <tbody>\n",
       "    <tr>\n",
       "      <th>0</th>\n",
       "      <td>Abaixo de 3000</td>\n",
       "      <td>5870.0</td>\n",
       "      <td>1.134300</td>\n",
       "      <td>0.0</td>\n",
       "      <td>9.0</td>\n",
       "      <td>1.0</td>\n",
       "      <td>1.208914</td>\n",
       "      <td>1.461473</td>\n",
       "      <td>1260.0</td>\n",
       "      <td>0.244803</td>\n",
       "      <td>0.0</td>\n",
       "      <td>4.0</td>\n",
       "      <td>0.0</td>\n",
       "      <td>0.551215</td>\n",
       "      <td>0.303838</td>\n",
       "    </tr>\n",
       "    <tr>\n",
       "      <th>1</th>\n",
       "      <td>Acima de 3000</td>\n",
       "      <td>27046.0</td>\n",
       "      <td>1.310368</td>\n",
       "      <td>0.0</td>\n",
       "      <td>52.0</td>\n",
       "      <td>1.0</td>\n",
       "      <td>1.447429</td>\n",
       "      <td>2.095052</td>\n",
       "      <td>5383.0</td>\n",
       "      <td>0.272116</td>\n",
       "      <td>0.0</td>\n",
       "      <td>28.0</td>\n",
       "      <td>0.0</td>\n",
       "      <td>0.629081</td>\n",
       "      <td>0.395743</td>\n",
       "    </tr>\n",
       "  </tbody>\n",
       "</table>\n",
       "</div>"
      ],
      "text/plain": [
       "       faixa_area QTDGESTANT                                                \\\n",
       "                        Soma     Média Minímo Máximo Mediana Desvio Padrão   \n",
       "0  Abaixo de 3000     5870.0  1.134300    0.0    9.0     1.0      1.208914   \n",
       "1   Acima de 3000    27046.0  1.310368    0.0   52.0     1.0      1.447429   \n",
       "\n",
       "            QTDFILMORT                                                          \n",
       "  Variância       Soma     Média Minímo Máximo Mediana Desvio Padrão Variância  \n",
       "0  1.461473     1260.0  0.244803    0.0    4.0     0.0      0.551215  0.303838  \n",
       "1  2.095052     5383.0  0.272116    0.0   28.0     0.0      0.629081  0.395743  "
      ]
     },
     "execution_count": 191,
     "metadata": {},
     "output_type": "execute_result"
    }
   ],
   "source": [
    "# groupBy com as variáveis CONSULTAS E QTDPARTNOR\n",
    "\n",
    "resultados = (\n",
    "    df_sinasci.groupby('faixa_area', observed=False)[['QTDGESTANT', 'QTDFILMORT']]\n",
    "    .agg([('Soma','sum'), ('Média','mean'), ('Minímo','min'), ('Máximo','max'), \n",
    "          ('Mediana','median'), ('Desvio Padrão','std'), ('Variância','var')])\n",
    "    .reset_index()\n",
    ")\n",
    "\n",
    "resultados"
   ]
  },
  {
   "cell_type": "markdown",
   "metadata": {},
   "source": [
    "- **Insight:** \n",
    "\n",
    "- Cidades com áreas **acima de 3000** têm uma média maior de quantidade de gestações em relação às cidades com área **abaixo de 3000**. Dado que sugere que elas são mais populosas visto que têm **27046** gestações comparadas com **5870** gestações das áreas **abaixo de 3000**. \n",
    "\n",
    "- Os dados também evidenciam que as cidades com áreas **acima de 3000** têm uma média da quantidade de filhos mortos maior que as cidades com áreas **abaixo de 3000**. \n"
   ]
  },
  {
   "cell_type": "markdown",
   "metadata": {},
   "source": [
    "### 3. Determine faixas na variável munResAlt e aplique o groupby usando essas faixas como chave e realize operações de soma, media, minimo, maximo, mediana, desvio padrao, variancia pra pelo menos 2 variáveis numéricas ainda não utilizadas"
   ]
  },
  {
   "cell_type": "code",
   "execution_count": 192,
   "metadata": {},
   "outputs": [
    {
     "name": "stdout",
     "output_type": "stream",
     "text": [
      "\n",
      "\n",
      "   munResAlt  faixa_altitude\n",
      "0      338.0  (153.0, 595.0]\n",
      "1      338.0  (153.0, 595.0]\n",
      "2      338.0  (153.0, 595.0]\n",
      "3      397.0  (153.0, 595.0]\n",
      "4      338.0  (153.0, 595.0]\n",
      "\n",
      "\n"
     ]
    }
   ],
   "source": [
    "# criando nova coluna \"faixa_altitude\" - qcut quebra em 2\n",
    "\n",
    "\n",
    "df_sinasci['faixa_altitude'] = pd.qcut(df_sinasci['munResAlt'], 2)\n",
    "\n",
    "print('\\n')\n",
    "print(df_sinasci[['munResAlt', 'faixa_altitude']].head())\n",
    "print('\\n')\n"
   ]
  },
  {
   "cell_type": "code",
   "execution_count": 193,
   "metadata": {},
   "outputs": [
    {
     "data": {
      "text/html": [
       "<div>\n",
       "<style scoped>\n",
       "    .dataframe tbody tr th:only-of-type {\n",
       "        vertical-align: middle;\n",
       "    }\n",
       "\n",
       "    .dataframe tbody tr th {\n",
       "        vertical-align: top;\n",
       "    }\n",
       "\n",
       "    .dataframe thead tr th {\n",
       "        text-align: left;\n",
       "    }\n",
       "</style>\n",
       "<table border=\"1\" class=\"dataframe\">\n",
       "  <thead>\n",
       "    <tr>\n",
       "      <th></th>\n",
       "      <th>faixa_altitude</th>\n",
       "      <th colspan=\"7\" halign=\"left\">SEMAGESTAC</th>\n",
       "      <th colspan=\"7\" halign=\"left\">STTRABPART</th>\n",
       "    </tr>\n",
       "    <tr>\n",
       "      <th></th>\n",
       "      <th></th>\n",
       "      <th>Soma</th>\n",
       "      <th>Média</th>\n",
       "      <th>Minímo</th>\n",
       "      <th>Máximo</th>\n",
       "      <th>Mediana</th>\n",
       "      <th>Desvio Padrão</th>\n",
       "      <th>Variância</th>\n",
       "      <th>Soma</th>\n",
       "      <th>Média</th>\n",
       "      <th>Minímo</th>\n",
       "      <th>Máximo</th>\n",
       "      <th>Mediana</th>\n",
       "      <th>Desvio Padrão</th>\n",
       "      <th>Variância</th>\n",
       "    </tr>\n",
       "  </thead>\n",
       "  <tbody>\n",
       "    <tr>\n",
       "      <th>0</th>\n",
       "      <td>(84.999, 153.0]</td>\n",
       "      <td>493526.0</td>\n",
       "      <td>38.568771</td>\n",
       "      <td>21.0</td>\n",
       "      <td>45.0</td>\n",
       "      <td>39.0</td>\n",
       "      <td>2.093561</td>\n",
       "      <td>4.383000</td>\n",
       "      <td>25299.0</td>\n",
       "      <td>1.975096</td>\n",
       "      <td>1.0</td>\n",
       "      <td>9.0</td>\n",
       "      <td>2.0</td>\n",
       "      <td>0.669624</td>\n",
       "      <td>0.448396</td>\n",
       "    </tr>\n",
       "    <tr>\n",
       "      <th>1</th>\n",
       "      <td>(153.0, 595.0]</td>\n",
       "      <td>501090.0</td>\n",
       "      <td>38.566151</td>\n",
       "      <td>19.0</td>\n",
       "      <td>45.0</td>\n",
       "      <td>39.0</td>\n",
       "      <td>1.938267</td>\n",
       "      <td>3.756881</td>\n",
       "      <td>26475.0</td>\n",
       "      <td>1.994951</td>\n",
       "      <td>1.0</td>\n",
       "      <td>9.0</td>\n",
       "      <td>2.0</td>\n",
       "      <td>0.613504</td>\n",
       "      <td>0.376387</td>\n",
       "    </tr>\n",
       "  </tbody>\n",
       "</table>\n",
       "</div>"
      ],
      "text/plain": [
       "    faixa_altitude SEMAGESTAC                                                 \\\n",
       "                         Soma      Média Minímo Máximo Mediana Desvio Padrão   \n",
       "0  (84.999, 153.0]   493526.0  38.568771   21.0   45.0    39.0      2.093561   \n",
       "1   (153.0, 595.0]   501090.0  38.566151   19.0   45.0    39.0      1.938267   \n",
       "\n",
       "            STTRABPART                                                          \n",
       "  Variância       Soma     Média Minímo Máximo Mediana Desvio Padrão Variância  \n",
       "0  4.383000    25299.0  1.975096    1.0    9.0     2.0      0.669624  0.448396  \n",
       "1  3.756881    26475.0  1.994951    1.0    9.0     2.0      0.613504  0.376387  "
      ]
     },
     "execution_count": 193,
     "metadata": {},
     "output_type": "execute_result"
    }
   ],
   "source": [
    "# groupBy com as variáveis CONSULTAS E QTDPARTNOR\n",
    "\n",
    "resultados = (\n",
    "    df_sinasci.groupby('faixa_altitude', observed=False)[['SEMAGESTAC', 'STTRABPART']]\n",
    "    .agg([('Soma','sum'), ('Média','mean'), ('Minímo','min'), ('Máximo','max'), \n",
    "          ('Mediana','median'), ('Desvio Padrão','std'), ('Variância','var')])\n",
    "    .reset_index()\n",
    ")\n",
    "\n",
    "resultados"
   ]
  },
  {
   "cell_type": "markdown",
   "metadata": {},
   "source": [
    "- **Insight:** \n",
    "\n",
    "- Cidades com altitudes **entre 84.999 e 153** e cidades com altitudes **entre 153 e 595** têm uma média semelhante na quantidade de semanas de gestação SEMAGESTAC que fica em torno de 38 semanas e meia.  \n",
    "\n",
    "- Cidades com altitudes **entre 84.999 e 153** e cidades com altitudes **entre 153 e 595** têm uma média semelhante no Status de Trabalho de Parto STTRABPART que fica em torno de 2, ou seja, parto que não estava em curso.  \n"
   ]
  },
  {
   "cell_type": "markdown",
   "metadata": {},
   "source": [
    "### 4. Plote no mesmo grafico ao longo do tempo a idade media das mulheres de cada regiao imediatas de rondonia\n",
    "https://pt.wikipedia.org/wiki/Lista_de_regi%C3%B5es_geogr%C3%A1ficas_intermedi%C3%A1rias_e_imediatas_de_Rond%C3%B4nia"
   ]
  },
  {
   "cell_type": "code",
   "execution_count": 194,
   "metadata": {},
   "outputs": [],
   "source": [
    "# Regiões Imediatas do estado de Rondônia\n",
    "\n",
    "imediatas = {\n",
    "    \"Candeias do Jamari\": \"Porto Velho\",\n",
    "    \"Guajará-Mirim\": \"Porto Velho\",\n",
    "    \"Itapuã do Oeste\": \"Porto Velho\",\n",
    "    \"Nova Mamoré\": \"Porto Velho\",\n",
    "    \"Porto Velho\": \"Porto Velho\",\n",
    "    \"Alto Paraíso\": \"Ariquemes\",\n",
    "    \"Ariquemes\": \"Ariquemes\",\n",
    "    \"Buritis\": \"Ariquemes\",\n",
    "    \"Cacaulândia\": \"Ariquemes\",\n",
    "    \"Campo Novo de Rondônia\": \"Ariquemes\",\n",
    "    \"Cujubim\": \"Ariquemes\",\n",
    "    \"Monte Negro\": \"Ariquemes\",\n",
    "    \"Rio Crespo\": \"Ariquemes\",\n",
    "    \"Jaru\": \"Jaru\",\n",
    "    \"Governador Jorge Teixeira\": \"Jaru\",\n",
    "    \"Machadinho D'Oeste\": \"Jaru\",\n",
    "    \"Theobroma\": \"Jaru\",\n",
    "    \"Vale do Anari\": \"Jaru\",\n",
    "    \"Alvorada D'Oeste\": \"Ji-Paraná\",\n",
    "    \"Costa Marques\": \"Ji-Paraná\",\n",
    "    \"Ji-Paraná\": \"Ji-Paraná\",\n",
    "    \"Mirante da Serra\": \"Ji-Paraná\",\n",
    "    \"Nova União\": \"Ji-Paraná\",\n",
    "    \"Ouro Preto do Oeste\": \"Ji-Paraná\",\n",
    "    \"Presidente Médici\": \"Ji-Paraná\",\n",
    "    \"São Francisco do Guaporé\": \"Ji-Paraná\",\n",
    "    \"São Miguel do Guaporé\": \"Ji-Paraná\",\n",
    "    \"Seringueiras\": \"Ji-Paraná\",\n",
    "    \"Teixeirópolis\": \"Ji-Paraná\",\n",
    "    \"Urupá\": \"Ji-Paraná\",\n",
    "    \"Vale do Paraíso\": \"Ji-Paraná\",\n",
    "    \"Cacoal\": \"Cacoal\",\n",
    "    \"Alta Floresta D'Oeste\": \"Cacoal\",\n",
    "    \"Alto Alegre dos Parecis\": \"Cacoal\",\n",
    "    \"Castanheiras\": \"Cacoal\",\n",
    "    \"Espigão D'Oeste\": \"Cacoal\",\n",
    "    \"Ministro Andreazza\": \"Cacoal\",\n",
    "    \"Nova Brasilândia D'Oeste\": \"Cacoal\",\n",
    "    \"Novo Horizonte do Oeste\": \"Cacoal\",\n",
    "    \"Parecis\": \"Cacoal\",\n",
    "    \"Pimenta Bueno\": \"Cacoal\",\n",
    "    \"Primavera de Rondônia\": \"Cacoal\",\n",
    "    \"Rolim de Moura\": \"Ji-Paraná\",\n",
    "    \"Santa Luzia D'Oeste\": \"Cacoal\",\n",
    "    \"São Felipe D'Oeste\": \"Cacoal\",\n",
    "    \"Vilhena\": \"Vilhena\",\n",
    "    \"Cabixi\": \"Vilhena\",\n",
    "    \"Cerejeiras\": \"Vilhena\",\n",
    "    \"Chupinguaia\": \"Vilhena\",\n",
    "    \"Colorado do Oeste\": \"Vilhena\",\n",
    "    \"Corumbiara\": \"Vilhena\",\n",
    "    \"Pimenteiras do Oeste\": \"Vilhena\"\n",
    "}\n",
    "\n"
   ]
  },
  {
   "cell_type": "code",
   "execution_count": 195,
   "metadata": {},
   "outputs": [],
   "source": [
    "# separando dataFrame para consulta\n",
    "\n",
    "df_consulta = df_sinasci[['munResNome','IDADEMAE']]\n"
   ]
  },
  {
   "cell_type": "code",
   "execution_count": 196,
   "metadata": {},
   "outputs": [],
   "source": [
    "# atribuindo index para a coluna 'munResNome'\n",
    "\n",
    "df_consulta = df_consulta.set_index('munResNome')\n"
   ]
  },
  {
   "cell_type": "code",
   "execution_count": 197,
   "metadata": {},
   "outputs": [
    {
     "data": {
      "text/html": [
       "<div>\n",
       "<style scoped>\n",
       "    .dataframe tbody tr th:only-of-type {\n",
       "        vertical-align: middle;\n",
       "    }\n",
       "\n",
       "    .dataframe tbody tr th {\n",
       "        vertical-align: top;\n",
       "    }\n",
       "\n",
       "    .dataframe thead th {\n",
       "        text-align: right;\n",
       "    }\n",
       "</style>\n",
       "<table border=\"1\" class=\"dataframe\">\n",
       "  <thead>\n",
       "    <tr style=\"text-align: right;\">\n",
       "      <th></th>\n",
       "      <th>IDADEMAE</th>\n",
       "    </tr>\n",
       "    <tr>\n",
       "      <th>munResNome</th>\n",
       "      <th></th>\n",
       "    </tr>\n",
       "  </thead>\n",
       "  <tbody>\n",
       "    <tr>\n",
       "      <th>Ariquemes</th>\n",
       "      <td>25.459635</td>\n",
       "    </tr>\n",
       "    <tr>\n",
       "      <th>Cacoal</th>\n",
       "      <td>26.284004</td>\n",
       "    </tr>\n",
       "    <tr>\n",
       "      <th>Jaru</th>\n",
       "      <td>25.708853</td>\n",
       "    </tr>\n",
       "    <tr>\n",
       "      <th>Ji-Paraná</th>\n",
       "      <td>26.174393</td>\n",
       "    </tr>\n",
       "    <tr>\n",
       "      <th>Porto Velho</th>\n",
       "      <td>26.166303</td>\n",
       "    </tr>\n",
       "    <tr>\n",
       "      <th>Vilhena</th>\n",
       "      <td>26.417143</td>\n",
       "    </tr>\n",
       "  </tbody>\n",
       "</table>\n",
       "</div>"
      ],
      "text/plain": [
       "              IDADEMAE\n",
       "munResNome            \n",
       "Ariquemes    25.459635\n",
       "Cacoal       26.284004\n",
       "Jaru         25.708853\n",
       "Ji-Paraná    26.174393\n",
       "Porto Velho  26.166303\n",
       "Vilhena      26.417143"
      ]
     },
     "execution_count": 197,
     "metadata": {},
     "output_type": "execute_result"
    }
   ],
   "source": [
    "# groupBy para regiões imediatas\n",
    "\n",
    "df_consulta.groupby(imediatas).mean()"
   ]
  },
  {
   "cell_type": "code",
   "execution_count": 198,
   "metadata": {},
   "outputs": [
    {
     "data": {
      "image/png": "[encoded data removed]",
      "text/plain": [
       "<Figure size 1800x500 with 1 Axes>"
      ]
     },
     "metadata": {},
     "output_type": "display_data"
    }
   ],
   "source": [
    "# plotando os dados das \"idades\" das mães por regiões imediatas\n",
    "\n",
    "df_consulta.groupby(imediatas).mean().plot(figsize=[18,5]);\n",
    "plt.title('Média das Idades das Mães por Região Imediata')\n",
    "plt.xlabel('Região Imediata')\n",
    "plt.ylabel('Média da Idade da Mãe')\n",
    "plt.show()"
   ]
  },
  {
   "cell_type": "markdown",
   "metadata": {},
   "source": [
    "- **Insight:** \n",
    "\n",
    "- As cidades das regiões de **Arquimedes** e **Jaru** têm a média das idades das mães menor do que as demais regiões.  \n",
    "\n",
    "\n"
   ]
  },
  {
   "cell_type": "markdown",
   "metadata": {},
   "source": [
    "### 5. Utilize a tabela do link abaixo e crie faixas utilizando o mapping e gere agrupamentos utilizando essas faixas como chave\n"
   ]
  },
  {
   "cell_type": "markdown",
   "metadata": {},
   "source": [
    "### 5.1 IDH\n",
    "A - https://pt.wikipedia.org/wiki/Lista_de_munic%C3%ADpios_de_Rond%C3%B4nia_por_IDH-M\n"
   ]
  },
  {
   "cell_type": "code",
   "execution_count": 199,
   "metadata": {},
   "outputs": [],
   "source": [
    "# Índice de Desenvolvimento Humano - IDH\n",
    "\n",
    "IDH = {\n",
    "    \"Candeias do Jamari\": \"Médio\",\n",
    "    \"Guajará-Mirim\": \"Baixo\",\n",
    "    \"Itapuã do Oeste\": \"Baixo\",\n",
    "    \"Nova Mamoré\": \"Baixo\",\n",
    "    \"Porto Velho\": \"Alto\",\n",
    "    \"Alto Paraíso\": \"Baixo\",\n",
    "    \"Ariquemes\": \"Alto\",\n",
    "    \"Buritis\": \"Baixo\",\n",
    "    \"Cacaulândia\": \"Baixo\",\n",
    "    \"Campo Novo de Rondônia\": \"Baixo\",\n",
    "    \"Cujubim\": \"Baixo\",\n",
    "    \"Monte Negro\": \"Baixo\",\n",
    "    \"Rio Crespo\": \"Baixo\",\n",
    "    \"Jaru\": \"Baixo\",\n",
    "    \"Governador Jorge Teixeira\": \"Baixo\",\n",
    "    \"Machadinho D'Oeste\": \"Baixo\",\n",
    "    \"Theobroma\": \"Baixo\",\n",
    "    \"Vale do Anari\": \"Baixo\",\n",
    "    \"Alvorada D'Oeste\": \"Baixo\",\n",
    "    \"Costa Marques\": \"Baixo\",\n",
    "    \"Ji-Paraná\": \"Alto\",\n",
    "    \"Mirante da Serra\": \"Baixo\",\n",
    "    \"Nova União\": \"Baixo\",\n",
    "    \"Ouro Preto do Oeste\": \"Baixo\",\n",
    "    \"Presidente Médici\": \"Baixo\",\n",
    "    \"São Francisco do Guaporé\": \"Baixo\",\n",
    "    \"São Miguel do Guaporé\": \"Baixo\",\n",
    "    \"Seringueiras\": \"Baixo\",\n",
    "    \"Teixeirópolis\": \"Baixo\",\n",
    "    \"Urupá\": \"Baixo\",\n",
    "    \"Vale do Paraíso\": \"Baixo\",\n",
    "    \"Cacoal\": \"Alto\",\n",
    "    \"Alta Floresta D'Oeste\": \"Baixo\",\n",
    "    \"Alto Alegre dos Parecis\": \"Baixo\",\n",
    "    \"Castanheiras\": \"Baixo\",\n",
    "    \"Espigão D'Oeste\": \"Baixo\",\n",
    "    \"Ministro Andreazza\": \"Baixo\",\n",
    "    \"Nova Brasilândia D'Oeste\": \"Baixo\",\n",
    "    \"Novo Horizonte do Oeste\": \"Baixo\",\n",
    "    \"Parecis\": \"Baixo\",\n",
    "    \"Pimenta Bueno\": \"Alto\",\n",
    "    \"Primavera de Rondônia\": \"Baixo\",\n",
    "    \"Rolim de Moura\": \"Alto\",\n",
    "    \"Santa Luzia D'Oeste\": \"Baixo\",\n",
    "    \"São Felipe D'Oeste\": \"Baixo\",\n",
    "    \"Vilhena\": \"Alto\",\n",
    "    \"Cabixi\": \"Baixo\",\n",
    "    \"Cerejeiras\": \"Baixo\",\n",
    "    \"Chupinguaia\": \"Baixo\",\n",
    "    \"Colorado do Oeste\": \"Baixo\",\n",
    "    \"Corumbiara\": \"Baixo\",\n",
    "    \"Pimenteiras do Oeste\": \"Baixo\"\n",
    "}\n"
   ]
  },
  {
   "cell_type": "code",
   "execution_count": 200,
   "metadata": {},
   "outputs": [],
   "source": [
    "# separando dataFrame para consulta\n",
    "\n",
    "df_consulta = df_sinasci[['munResNome','IDADEMAE', 'QTDGESTANT']]\n"
   ]
  },
  {
   "cell_type": "code",
   "execution_count": 201,
   "metadata": {},
   "outputs": [],
   "source": [
    "# atribuindo index para a coluna 'munResNome'\n",
    "\n",
    "df_consulta = df_consulta.set_index('munResNome')\n"
   ]
  },
  {
   "cell_type": "code",
   "execution_count": 202,
   "metadata": {},
   "outputs": [
    {
     "data": {
      "text/html": [
       "<div>\n",
       "<style scoped>\n",
       "    .dataframe tbody tr th:only-of-type {\n",
       "        vertical-align: middle;\n",
       "    }\n",
       "\n",
       "    .dataframe tbody tr th {\n",
       "        vertical-align: top;\n",
       "    }\n",
       "\n",
       "    .dataframe thead th {\n",
       "        text-align: right;\n",
       "    }\n",
       "</style>\n",
       "<table border=\"1\" class=\"dataframe\">\n",
       "  <thead>\n",
       "    <tr style=\"text-align: right;\">\n",
       "      <th></th>\n",
       "      <th>IDADEMAE</th>\n",
       "      <th>QTDGESTANT</th>\n",
       "    </tr>\n",
       "    <tr>\n",
       "      <th>munResNome</th>\n",
       "      <th></th>\n",
       "      <th></th>\n",
       "    </tr>\n",
       "  </thead>\n",
       "  <tbody>\n",
       "    <tr>\n",
       "      <th>Alto</th>\n",
       "      <td>26.280332</td>\n",
       "      <td>1.277690</td>\n",
       "    </tr>\n",
       "    <tr>\n",
       "      <th>Baixo</th>\n",
       "      <td>25.803254</td>\n",
       "      <td>1.257358</td>\n",
       "    </tr>\n",
       "    <tr>\n",
       "      <th>Médio</th>\n",
       "      <td>25.243323</td>\n",
       "      <td>1.701639</td>\n",
       "    </tr>\n",
       "  </tbody>\n",
       "</table>\n",
       "</div>"
      ],
      "text/plain": [
       "             IDADEMAE  QTDGESTANT\n",
       "munResNome                       \n",
       "Alto        26.280332    1.277690\n",
       "Baixo       25.803254    1.257358\n",
       "Médio       25.243323    1.701639"
      ]
     },
     "execution_count": 202,
     "metadata": {},
     "output_type": "execute_result"
    }
   ],
   "source": [
    "# groupBy para IDH\n",
    "\n",
    "df_consulta.groupby(IDH).mean()"
   ]
  },
  {
   "cell_type": "code",
   "execution_count": 203,
   "metadata": {},
   "outputs": [
    {
     "data": {
      "image/png": "[encoded data removed]",
      "text/plain": [
       "<Figure size 1800x500 with 1 Axes>"
      ]
     },
     "metadata": {},
     "output_type": "display_data"
    }
   ],
   "source": [
    "# plotando os dados das \"idades\" E \"quantidade de gestações\" das mães por IDH\n",
    "\n",
    "df_consulta.groupby(IDH).mean().plot(figsize=[18,5]);\n",
    "plt.title('Média das Idades das Mães e Quantidade de Gestações por IDH')\n",
    "plt.xlabel('IDH')\n",
    "plt.ylabel('Média da Idade da Mãe')\n",
    "plt.show()"
   ]
  },
  {
   "cell_type": "markdown",
   "metadata": {},
   "source": [
    "### 5.2 IFDM \n",
    "B - https://pt.wikipedia.org/wiki/Lista_de_munic%C3%ADpios_de_Rond%C3%B4nia_por_IFDM\n"
   ]
  },
  {
   "cell_type": "code",
   "execution_count": 204,
   "metadata": {},
   "outputs": [],
   "source": [
    "# Índice FIRJAN de Desenvolvimento Municipal - IFDM \n",
    "\n",
    "IFDM = {\n",
    "    \"Candeias do Jamari\": \"Moderado\",\n",
    "    \"Guajará-Mirim\": \"Regular\",\n",
    "    \"Itapuã do Oeste\": \"Regular\",\n",
    "    \"Nova Mamoré\": \"Regular\",\n",
    "    \"Porto Velho\": \"Moderado\",\n",
    "    \"Alto Paraíso\": \"Regular\",\n",
    "    \"Ariquemes\": \"Moderado\",\n",
    "    \"Buritis\": \"Moderado\",\n",
    "    \"Cacaulândia\": \"Regular\",\n",
    "    \"Campo Novo de Rondônia\": \"Regular\",\n",
    "    \"Cujubim\": \"Regular\",\n",
    "    \"Monte Negro\": \"Moderado\",\n",
    "    \"Rio Crespo\": \"Moderado\",\n",
    "    \"Jaru\": \"Moderado\",\n",
    "    \"Governador Jorge Teixeira\": \"Regular\",\n",
    "    \"Machadinho D'Oeste\": \"Regular\",\n",
    "    \"Theobroma\": \"Regular\",\n",
    "    \"Vale do Anari\": \"Regular\",\n",
    "    \"Alvorada D'Oeste\": \"Regular\",\n",
    "    \"Costa Marques\": \"Regular\",\n",
    "    \"Ji-Paraná\": \"Moderado\",\n",
    "    \"Mirante da Serra\": \"Regular\",\n",
    "    \"Nova União\": \"Regular\",\n",
    "    \"Ouro Preto do Oeste\": \"Moderado\",\n",
    "    \"Presidente Médici\": \"Moderado\",\n",
    "    \"São Francisco do Guaporé\": \"Moderado\",\n",
    "    \"São Miguel do Guaporé\": \"Moderado\",\n",
    "    \"Seringueiras\": \"Regular\",\n",
    "    \"Teixeirópolis\": \"Moderado\",\n",
    "    \"Urupá\": \"Moderado\",\n",
    "    \"Vale do Paraíso\": \"Regular\",\n",
    "    \"Cacoal\": \"Moderado\",\n",
    "    \"Alta Floresta D'Oeste\": \"Moderado\",\n",
    "    \"Alto Alegre dos Parecis\": \"Regular\",\n",
    "    \"Castanheiras\": \"Regular\",\n",
    "    \"Espigão D'Oeste\": \"Regular\",\n",
    "    \"Ministro Andreazza\": \"Regular\",\n",
    "    \"Nova Brasilândia D'Oeste\": \"Regular\",\n",
    "    \"Novo Horizonte do Oeste\": \"Regular\",\n",
    "    \"Parecis\": \"Regular\",\n",
    "    \"Pimenta Bueno\": \"Moderado\",\n",
    "    \"Primavera de Rondônia\": \"Moderado\",\n",
    "    \"Rolim de Moura\": \"Moderado\",\n",
    "    \"Santa Luzia D'Oeste\": \"Moderado\",\n",
    "    \"São Felipe D'Oeste\": \"Moderado\",\n",
    "    \"Vilhena\": \"Moderado\",\n",
    "    \"Cabixi\": \"Regular\",\n",
    "    \"Cerejeiras\": \"Moderado\",\n",
    "    \"Chupinguaia\": \"Moderado\",\n",
    "    \"Colorado do Oeste\": \"Moderado\",\n",
    "    \"Corumbiara\": \"Regular\",\n",
    "    \"Pimenteiras do Oeste\": \"Moderado\"\n",
    "}\n"
   ]
  },
  {
   "cell_type": "code",
   "execution_count": 205,
   "metadata": {},
   "outputs": [],
   "source": [
    "# separando dataFrame para consulta\n",
    "\n",
    "df_consulta = df_sinasci[['munResNome','IDADEMAE', 'QTDGESTANT']]\n"
   ]
  },
  {
   "cell_type": "code",
   "execution_count": 206,
   "metadata": {},
   "outputs": [],
   "source": [
    "# atribuindo index para a coluna 'munResNome'\n",
    "\n",
    "df_consulta = df_consulta.set_index('munResNome')"
   ]
  },
  {
   "cell_type": "code",
   "execution_count": 207,
   "metadata": {},
   "outputs": [
    {
     "data": {
      "text/html": [
       "<div>\n",
       "<style scoped>\n",
       "    .dataframe tbody tr th:only-of-type {\n",
       "        vertical-align: middle;\n",
       "    }\n",
       "\n",
       "    .dataframe tbody tr th {\n",
       "        vertical-align: top;\n",
       "    }\n",
       "\n",
       "    .dataframe thead th {\n",
       "        text-align: right;\n",
       "    }\n",
       "</style>\n",
       "<table border=\"1\" class=\"dataframe\">\n",
       "  <thead>\n",
       "    <tr style=\"text-align: right;\">\n",
       "      <th></th>\n",
       "      <th>IDADEMAE</th>\n",
       "      <th>QTDGESTANT</th>\n",
       "    </tr>\n",
       "    <tr>\n",
       "      <th>munResNome</th>\n",
       "      <th></th>\n",
       "      <th></th>\n",
       "    </tr>\n",
       "  </thead>\n",
       "  <tbody>\n",
       "    <tr>\n",
       "      <th>Moderado</th>\n",
       "      <td>26.223139</td>\n",
       "      <td>1.256705</td>\n",
       "    </tr>\n",
       "    <tr>\n",
       "      <th>Regular</th>\n",
       "      <td>25.535131</td>\n",
       "      <td>1.351368</td>\n",
       "    </tr>\n",
       "  </tbody>\n",
       "</table>\n",
       "</div>"
      ],
      "text/plain": [
       "             IDADEMAE  QTDGESTANT\n",
       "munResNome                       \n",
       "Moderado    26.223139    1.256705\n",
       "Regular     25.535131    1.351368"
      ]
     },
     "execution_count": 207,
     "metadata": {},
     "output_type": "execute_result"
    }
   ],
   "source": [
    "# groupBy para IFDM\n",
    "\n",
    "df_consulta.groupby(IFDM).mean()"
   ]
  },
  {
   "cell_type": "code",
   "execution_count": 208,
   "metadata": {},
   "outputs": [
    {
     "data": {
      "image/png": "[encoded data removed]",
      "text/plain": [
       "<Figure size 1800x500 with 1 Axes>"
      ]
     },
     "metadata": {},
     "output_type": "display_data"
    }
   ],
   "source": [
    "# plotando os dados das \"idades\" e \"quantidade de gestações\" das mães por IFDM \n",
    "\n",
    "df_consulta.groupby(IFDM).mean().plot(figsize=[18,5]);\n",
    "plt.title('Média das Idades das Mães e Quantidade de Gestações por IFDM ')\n",
    "plt.xlabel('IFDM')\n",
    "plt.ylabel('Média da Idade da Mãe')\n",
    "plt.show()"
   ]
  },
  {
   "cell_type": "markdown",
   "metadata": {},
   "source": [
    "### 5.3 PIB\n",
    "C - https://pt.wikipedia.org/wiki/Lista_de_munic%C3%ADpios_de_Rond%C3%B4nia_por_PIB\n"
   ]
  },
  {
   "cell_type": "code",
   "execution_count": 209,
   "metadata": {},
   "outputs": [],
   "source": [
    "#  Produto Interno Bruto - PIB \n",
    "\n",
    "PIB = {\n",
    "    \"Candeias do Jamari\": \"2. Maior que 500 Milhões\",\n",
    "    \"Guajará-Mirim\": \"2. Maior que 500 Milhões\",\n",
    "    \"Itapuã do Oeste\": \"5. Maior que 100 Milhões\",\n",
    "    \"Nova Mamoré\": \"2. Maior que 500 Milhões\",\n",
    "    \"Porto Velho\": \"1. Maior que 1 Bilhão\",\n",
    "    \"Alto Paraíso\": \"3. Maior que 300 Milhões\",\n",
    "    \"Ariquemes\": \"1. Maior que 1 Bilhão\",\n",
    "    \"Buritis\": \"2. Maior que 500 Milhões\",\n",
    "    \"Cacaulândia\": \"5. Maior que 100 Milhões\",\n",
    "    \"Campo Novo de Rondônia\": \"4. Maior que 200 Milhões\",\n",
    "    \"Cujubim\": \"3. Maior que 300 Milhões\",\n",
    "    \"Monte Negro\": \"4. Maior que 200 Milhões\",\n",
    "    \"Rio Crespo\": \"6. Menor que 100 Milhões\",\n",
    "    \"Jaru\": \"1. Maior que 1 Bilhão\",\n",
    "    \"Governador Jorge Teixeira\": \"5. Maior que 100 Milhões\",\n",
    "    \"Machadinho D'Oeste\": \"2. Maior que 500 Milhões\",\n",
    "    \"Theobroma\": \"5. Maior que 100 Milhões\",\n",
    "    \"Vale do Anari\": \"5. Maior que 100 Milhões\",\n",
    "    \"Alvorada D'Oeste\": \"4. Maior que 200 Milhões\",\n",
    "    \"Costa Marques\": \"5. Maior que 100 Milhões\",\n",
    "    \"Ji-Paraná\": \"1. Maior que 1 Bilhão\",\n",
    "    \"Mirante da Serra\": \"5. Maior que 100 Milhões\",\n",
    "    \"Nova União\": \"6. Menor que 100 Milhões\",\n",
    "    \"Ouro Preto do Oeste\": \"2. Maior que 500 Milhões\",\n",
    "    \"Presidente Médici\": \"3. Maior que 300 Milhões\",\n",
    "    \"São Francisco do Guaporé\": \"3. Maior que 300 Milhões\",\n",
    "    \"São Miguel do Guaporé\": \"2. Maior que 500 Milhões\",\n",
    "    \"Seringueiras\": \"5. Maior que 100 Milhões\",\n",
    "    \"Teixeirópolis\": \"6. Menor que 100 Milhões\",\n",
    "    \"Urupá\": \"5. Maior que 100 Milhões\",\n",
    "    \"Vale do Paraíso\": \"5. Maior que 100 Milhões\",\n",
    "    \"Cacoal\": \"1. Maior que 1 Bilhão\",\n",
    "    \"Alta Floresta D'Oeste\": \"3. Maior que 300 Milhões\",\n",
    "    \"Alto Alegre dos Parecis\": \"4. Maior que 200 Milhões\",\n",
    "    \"Castanheiras\": \"6. Menor que 100 Milhões\",\n",
    "    \"Espigão D'Oeste\": \"2. Maior que 500 Milhões\",\n",
    "    \"Ministro Andreazza\": \"5. Maior que 100 Milhões\",\n",
    "    \"Nova Brasilândia D'Oeste\": \"3. Maior que 300 Milhões\",\n",
    "    \"Novo Horizonte do Oeste\": \"5. Maior que 100 Milhões\",\n",
    "    \"Parecis\": \"6. Menor que 100 Milhões\",\n",
    "    \"Pimenta Bueno\": \"1. Maior que 1 Bilhão\",\n",
    "    \"Primavera de Rondônia\": \"6. Menor que 100 Milhões\",\n",
    "    \"Rolim de Moura\": \"1. Maior que 1 Bilhão\",\n",
    "    \"Santa Luzia D'Oeste\": \"5. Maior que 100 Milhões\",\n",
    "    \"São Felipe D'Oeste\": \"6. Menor que 100 Milhões\",\n",
    "    \"Vilhena\": \"1. Maior que 1 Bilhão\",\n",
    "    \"Cabixi\": \"5. Maior que 100 Milhões\",\n",
    "    \"Cerejeiras\": \"2. Maior que 500 Milhões\",\n",
    "    \"Chupinguaia\": \"5. Maior que 100 Milhões\",\n",
    "    \"Colorado do Oeste\": \"3. Maior que 300 Milhões\",\n",
    "    \"Corumbiara\": \"5. Maior que 100 Milhões\",\n",
    "    \"Pimenteiras do Oeste\": \"6. Menor que 100 Milhões\"\n",
    "}\n"
   ]
  },
  {
   "cell_type": "code",
   "execution_count": 210,
   "metadata": {},
   "outputs": [],
   "source": [
    "# separando dataFrame para consulta\n",
    "\n",
    "df_consulta = df_sinasci[['munResNome','IDADEMAE', 'QTDGESTANT']]"
   ]
  },
  {
   "cell_type": "code",
   "execution_count": 211,
   "metadata": {},
   "outputs": [],
   "source": [
    "# atribuindo index para a coluna 'munResNome'\n",
    "\n",
    "df_consulta = df_consulta.set_index('munResNome')"
   ]
  },
  {
   "cell_type": "code",
   "execution_count": 212,
   "metadata": {},
   "outputs": [
    {
     "data": {
      "text/html": [
       "<div>\n",
       "<style scoped>\n",
       "    .dataframe tbody tr th:only-of-type {\n",
       "        vertical-align: middle;\n",
       "    }\n",
       "\n",
       "    .dataframe tbody tr th {\n",
       "        vertical-align: top;\n",
       "    }\n",
       "\n",
       "    .dataframe thead th {\n",
       "        text-align: right;\n",
       "    }\n",
       "</style>\n",
       "<table border=\"1\" class=\"dataframe\">\n",
       "  <thead>\n",
       "    <tr style=\"text-align: right;\">\n",
       "      <th></th>\n",
       "      <th>IDADEMAE</th>\n",
       "      <th>QTDGESTANT</th>\n",
       "    </tr>\n",
       "    <tr>\n",
       "      <th>munResNome</th>\n",
       "      <th></th>\n",
       "      <th></th>\n",
       "    </tr>\n",
       "  </thead>\n",
       "  <tbody>\n",
       "    <tr>\n",
       "      <th>1. Maior que 1 Bilhão</th>\n",
       "      <td>26.265562</td>\n",
       "      <td>1.268052</td>\n",
       "    </tr>\n",
       "    <tr>\n",
       "      <th>2. Maior que 500 Milhões</th>\n",
       "      <td>25.782528</td>\n",
       "      <td>1.399331</td>\n",
       "    </tr>\n",
       "    <tr>\n",
       "      <th>3. Maior que 300 Milhões</th>\n",
       "      <td>25.833511</td>\n",
       "      <td>1.192719</td>\n",
       "    </tr>\n",
       "    <tr>\n",
       "      <th>4. Maior que 200 Milhões</th>\n",
       "      <td>25.323204</td>\n",
       "      <td>1.147887</td>\n",
       "    </tr>\n",
       "    <tr>\n",
       "      <th>5. Maior que 100 Milhões</th>\n",
       "      <td>25.662910</td>\n",
       "      <td>1.225521</td>\n",
       "    </tr>\n",
       "    <tr>\n",
       "      <th>6. Menor que 100 Milhões</th>\n",
       "      <td>26.515081</td>\n",
       "      <td>1.126168</td>\n",
       "    </tr>\n",
       "  </tbody>\n",
       "</table>\n",
       "</div>"
      ],
      "text/plain": [
       "                           IDADEMAE  QTDGESTANT\n",
       "munResNome                                     \n",
       "1. Maior que 1 Bilhão     26.265562    1.268052\n",
       "2. Maior que 500 Milhões  25.782528    1.399331\n",
       "3. Maior que 300 Milhões  25.833511    1.192719\n",
       "4. Maior que 200 Milhões  25.323204    1.147887\n",
       "5. Maior que 100 Milhões  25.662910    1.225521\n",
       "6. Menor que 100 Milhões  26.515081    1.126168"
      ]
     },
     "execution_count": 212,
     "metadata": {},
     "output_type": "execute_result"
    }
   ],
   "source": [
    "# groupBy para PIB\n",
    "\n",
    "df_consulta.groupby(PIB).mean()"
   ]
  },
  {
   "cell_type": "code",
   "execution_count": 213,
   "metadata": {},
   "outputs": [
    {
     "data": {
      "image/png": "[encoded data removed]",
      "text/plain": [
       "<Figure size 1800x500 with 1 Axes>"
      ]
     },
     "metadata": {},
     "output_type": "display_data"
    }
   ],
   "source": [
    "# plotando os dados das \"idades\" e \"quantidade de gestações\" das mães por PIB \n",
    "\n",
    "df_consulta.groupby(PIB).mean().plot(figsize=[18,5]);\n",
    "plt.title('Média das Idades das Mães e Quantidade de Gestações por PIB ')\n",
    "plt.xlabel('PIB')\n",
    "plt.ylabel('Média da Idade da Mãe')\n",
    "plt.show()"
   ]
  },
  {
   "cell_type": "markdown",
   "metadata": {},
   "source": [
    "### Analise as respostas encontradas, tire algum insight delas, conte pra gente algo encontrado nos dados."
   ]
  },
  {
   "cell_type": "markdown",
   "metadata": {},
   "source": [
    "Insight:\n",
    "Verificando os dados de - IDH, IFDM e PIB das cidades de Rondônia e as relacionando com as variáveis IDADEMAE (idade da mãe) e QTDGESTANT (quantidade de gestações) foi notado:\n",
    "- não há diferenças significativas em relação à idade de mãe que ficou entre **25 e 26 anos** em média;\n",
    "- não há diferenças significativas em relação ao número de gestações para cada mãe que ficou aproximadamente entre **1.2 e 1.4** gestações por mãe. Há uma excessão no caso de cidades classificadas pelo IDH - **IDH Médio** tem 1.7 gestações por mãe. Cidades com **IDH Alto** e **IDH Baixo** têm taxas menores de gestações por mãe.\n",
    "- Em cidades que têm PIB **Menor que 200 Milhões** o número de gestações por mãe fica abaixo de **1.2**.\n",
    "- Em linhas gerais vemos que a taxa de natalidade vista através dos dados do **SINASC** do estado de **Rondônia** são baixas seguindo uma tendência contemporânea. Os casais estão tendo menos filhos por causa do custo parental que uma criança trás para uma família. Para além disso, podemos pensar que a ida da mulher para mercado de trabalho impacta no número de gestações por casal."
   ]
  },
  {
   "cell_type": "code",
   "execution_count": null,
   "metadata": {},
   "outputs": [],
   "source": []
  }
 ],
 "metadata": {
  "kernelspec": {
   "display_name": "Python 3 (ipykernel)",
   "language": "python",
   "name": "python3"
  },
  "language_info": {
   "codemirror_mode": {
    "name": "ipython",
    "version": 3
   },
   "file_extension": ".py",
   "mimetype": "text/x-python",
   "name": "python",
   "nbconvert_exporter": "python",
   "pygments_lexer": "ipython3",
   "version": "3.11.5"
  },
  "varInspector": {
   "cols": {
    "lenName": 16,
    "lenType": 16,
    "lenVar": 40
   },
   "kernels_config": {
    "python": {
     "delete_cmd_postfix": "",
     "delete_cmd_prefix": "del ",
     "library": "var_list.py",
     "varRefreshCmd": "print(var_dic_list())"
    },
    "r": {
     "delete_cmd_postfix": ") ",
     "delete_cmd_prefix": "rm(",
     "library": "var_list.r",
     "varRefreshCmd": "cat(var_dic_list()) "
    }
   },
   "types_to_exclude": [
    "module",
    "function",
    "builtin_function_or_method",
    "instance",
    "_Feature"
   ],
   "window_display": false
  }
 },
 "nbformat": 4,
 "nbformat_minor": 4
}
